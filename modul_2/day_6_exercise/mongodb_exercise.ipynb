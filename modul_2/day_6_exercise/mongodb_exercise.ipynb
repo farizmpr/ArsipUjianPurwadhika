{
 "cells": [
  {
   "cell_type": "code",
   "execution_count": 68,
   "metadata": {},
   "outputs": [],
   "source": [
    "import pymongo as p \n",
    "dburl='mongodb://localhost:27017'"
   ]
  },
  {
   "cell_type": "code",
   "execution_count": 69,
   "metadata": {},
   "outputs": [
    {
     "name": "stdout",
     "output_type": "stream",
     "text": [
      "koneksi berhasil\n"
     ]
    }
   ],
   "source": [
    "myMongo=p.MongoClient(dburl)\n",
    "print(\"koneksi berhasil\")"
   ]
  },
  {
   "cell_type": "code",
   "execution_count": 71,
   "metadata": {},
   "outputs": [],
   "source": [
    "dbs = myMongo.list_database_names()"
   ]
  },
  {
   "cell_type": "code",
   "execution_count": 39,
   "metadata": {},
   "outputs": [],
   "source": [
    "myDB = myMongo['Kampus']"
   ]
  },
  {
   "cell_type": "code",
   "execution_count": 72,
   "metadata": {},
   "outputs": [
    {
     "name": "stdout",
     "output_type": "stream",
     "text": [
      "['HRD', 'Kampus', 'Penjualan', 'admin', 'config', 'local', 'restoran', 'user']\n"
     ]
    }
   ],
   "source": [
    "#create database\n",
    "print(dbs)"
   ]
  },
  {
   "cell_type": "code",
   "execution_count": 43,
   "metadata": {},
   "outputs": [
    {
     "name": "stderr",
     "output_type": "stream",
     "text": [
      "/Users/risyad/anaconda3/lib/python3.6/site-packages/ipykernel_launcher.py:2: DeprecationWarning: add_user is deprecated and will be removed in PyMongo 4.0. Use db.command with createUser or updateUser instead\n",
      "  \n"
     ]
    }
   ],
   "source": [
    "myMongo.Kampus.add_user(\"andi\",\"anditopsecret\",roles=[{\n",
    "    \"role\":\"userAdmin\",\"db\":\"Kampus\",\n",
    "}])"
   ]
  },
  {
   "cell_type": "code",
   "execution_count": 52,
   "metadata": {},
   "outputs": [
    {
     "name": "stderr",
     "output_type": "stream",
     "text": [
      "/Users/risyad/anaconda3/lib/python3.6/site-packages/ipykernel_launcher.py:2: DeprecationWarning: add_user is deprecated and will be removed in PyMongo 4.0. Use db.command with createUser or updateUser instead\n",
      "  \n"
     ]
    }
   ],
   "source": [
    "myMongo.Kampus.add_user(\"budi\",\"buditopsecret\",roles=[{\n",
    "    \"role\":\"readWrite\",\"db\":\"Kampus\",\n",
    "}])"
   ]
  },
  {
   "cell_type": "code",
   "execution_count": 53,
   "metadata": {},
   "outputs": [],
   "source": [
    "#Masukkan 3 buah data berikut ke collection \"Dosen\":\n",
    "myCol=myDB['Dosen']"
   ]
  },
  {
   "cell_type": "code",
   "execution_count": 55,
   "metadata": {},
   "outputs": [
    {
     "name": "stdout",
     "output_type": "stream",
     "text": [
      "data dosen berhasil dimasukkan\n"
     ]
    }
   ],
   "source": [
    "data1=[\n",
    "    {'nama':\"Caca\",\n",
    "'usia':28,\n",
    "'asal':\"Jakarta\",\n",
    "'bidang':\"Fisika Astrologi\",\n",
    "'titel':\"S2\",\n",
    "'status':\"Honorer\",\n",
    "'nip':123,\n",
    "'matkul':[\"Metrologi\",\"Kosmologi\",\"Kalkulus\"]},\n",
    "\n",
    "{'nama':\"Dedi\",\n",
    "'usia':29,\n",
    "'asal':\"Yogyakarta\",\n",
    "'bidang':\"Fisika Terapan\",\n",
    "'titel':\"S3\",\n",
    "'status':\"PNS\",\n",
    "'nip':456,\n",
    "'matkul':[\"Instrumentasi\",\"Elektronika\",\"Fisika Dasar\"]},\n",
    "\n",
    "{'nama':\"Euis\",\n",
    "'usia':30,\n",
    "'asal':\"Bandung\",\n",
    "'bidang':\"Fisika Teoretik\",\n",
    "'titel':\"S1\",\n",
    "'status':\"Honorer\",\n",
    "'nip':789,\n",
    "'matkul':[\"Fisika Dasar\",\"Fisika Modern\",\"Kalkulus\"]}\n",
    "]\n",
    "\n",
    "myCol.insert_many(data1)\n",
    "print(\"data dosen berhasil dimasukkan\")"
   ]
  },
  {
   "cell_type": "code",
   "execution_count": 56,
   "metadata": {},
   "outputs": [
    {
     "name": "stdout",
     "output_type": "stream",
     "text": [
      "{'_id': ObjectId('5f6326284f56429c722c0fa9'), 'nama': 'Caca', 'usia': 28, 'asal': 'Jakarta', 'bidang': 'Fisika Astrologi', 'titel': 'S2', 'status': 'Honorer', 'nip': 123, 'matkul': ['Metrologi', 'Kosmologi', 'Kalkulus']}\n",
      "{'_id': ObjectId('5f6326284f56429c722c0faa'), 'nama': 'Dedi', 'usia': 29, 'asal': 'Yogyakarta', 'bidang': 'Fisika Terapan', 'titel': 'S3', 'status': 'PNS', 'nip': 456, 'matkul': ['Instrumentasi', 'Elektronika', 'Fisika Dasar']}\n",
      "{'_id': ObjectId('5f6326284f56429c722c0fab'), 'nama': 'Euis', 'usia': 30, 'asal': 'Bandung', 'bidang': 'Fisika Teoretik', 'titel': 'S1', 'status': 'Honorer', 'nip': 789, 'matkul': ['Fisika Dasar', 'Fisika Modern', 'Kalkulus']}\n"
     ]
    }
   ],
   "source": [
    "for i in myCol.find():\n",
    "    print(i)"
   ]
  },
  {
   "cell_type": "code",
   "execution_count": 57,
   "metadata": {},
   "outputs": [],
   "source": [
    "#Masukkan 4 buah data berikut ke collection \"Mahasiswa\":\n",
    "myCol2=myDB['Mahasiswa']"
   ]
  },
  {
   "cell_type": "code",
   "execution_count": 58,
   "metadata": {},
   "outputs": [
    {
     "name": "stdout",
     "output_type": "stream",
     "text": [
      "data mahasiswa berhasil dimasukkan\n"
     ]
    }
   ],
   "source": [
    "data2=[\n",
    "    {'nama':\"Faza\",\n",
    "'usia':19,\n",
    "'asal':\"Aceh\",\n",
    "'prodi':\"Fisika\",\n",
    "'angkatan':2017,\n",
    "'nim':123},\n",
    "\n",
    "{'nama':\"Gilang\",\n",
    "'usia':20,\n",
    "'asal':\"Semarang\",\n",
    "'prodi':\"Fisika\",\n",
    "'angkatan':2017,\n",
    "'nim':456},\n",
    "\n",
    "{'nama':\"Hanafi\",\n",
    "'usia':20,\n",
    "'asal':\"Makassar\",\n",
    "'prodi':\"Fisika\",\n",
    "'angkatan':2017,\n",
    "'nim':789},\n",
    "\n",
    "{'nama':\"Dini\",\n",
    "'usia':20,\n",
    "'asal':\"Bekasi\",\n",
    "'prodi':\"Fisika\",\n",
    "'angkatan':2017,\n",
    "'nim':'004'}\n",
    "]\n",
    "myCol2.insert_many(data2)\n",
    "print(\"data mahasiswa berhasil dimasukkan\")"
   ]
  },
  {
   "cell_type": "code",
   "execution_count": 59,
   "metadata": {},
   "outputs": [
    {
     "name": "stdout",
     "output_type": "stream",
     "text": [
      "{'_id': ObjectId('5f6326f74f56429c722c0fac'), 'nama': 'Faza', 'usia': 19, 'asal': 'Aceh', 'prodi': 'Fisika', 'angkatan': 2017, 'nim': 123}\n",
      "{'_id': ObjectId('5f6326f74f56429c722c0fad'), 'nama': 'Gilang', 'usia': 20, 'asal': 'Semarang', 'prodi': 'Fisika', 'angkatan': 2017, 'nim': 456}\n",
      "{'_id': ObjectId('5f6326f74f56429c722c0fae'), 'nama': 'Hanafi', 'usia': 20, 'asal': 'Makassar', 'prodi': 'Fisika', 'angkatan': 2017, 'nim': 789}\n",
      "{'_id': ObjectId('5f6326f74f56429c722c0faf'), 'nama': 'Dini', 'usia': 20, 'asal': 'Bekasi', 'prodi': 'Fisika', 'angkatan': 2017, 'nim': '004'}\n"
     ]
    }
   ],
   "source": [
    "for y in myCol2.find():\n",
    "    print(y)"
   ]
  },
  {
   "cell_type": "code",
   "execution_count": 74,
   "metadata": {},
   "outputs": [
    {
     "name": "stdout",
     "output_type": "stream",
     "text": [
      "{'_id': ObjectId('5f6326f74f56429c722c0fad'), 'nama': 'Gilang', 'usia': 20, 'asal': 'Semarang', 'prodi': 'Fisika', 'angkatan': 2017, 'nim': 456}\n",
      "{'_id': ObjectId('5f6326f74f56429c722c0fae'), 'nama': 'Hanafi', 'usia': 20, 'asal': 'Makassar', 'prodi': 'Fisika', 'angkatan': 2017, 'nim': 789}\n",
      "{'_id': ObjectId('5f6326f74f56429c722c0faf'), 'nama': 'Dini', 'usia': 20, 'asal': 'Bekasi', 'prodi': 'Fisika', 'angkatan': 2017, 'nim': '004'}\n"
     ]
    }
   ],
   "source": [
    "## Kemudian Hapus Nama Faza Dari Collection Mahasiswa\n",
    "kondisi3={\"nama\":\"Faza\"}\n",
    "myCol2.delete_one(kondisi3)\n",
    "\n",
    "for y in myCol2.find():\n",
    "    print(y)"
   ]
  },
  {
   "cell_type": "code",
   "execution_count": 61,
   "metadata": {},
   "outputs": [
    {
     "data": {
      "text/plain": [
       "<pymongo.results.InsertOneResult at 0x10cb80f88>"
      ]
     },
     "execution_count": 61,
     "metadata": {},
     "output_type": "execute_result"
    }
   ],
   "source": [
    "#Tambahkan data Dodi ke dalam Collection Dosen berikut rincian data Dodi\n",
    "myCol.insert_one({'nama':\"Dodi\",\n",
    "'usia':27,\n",
    "'asal':\"Surabaya\",\n",
    "'bidang':\"Computer Science\",\n",
    "'titel':\"S2\",\n",
    "'status':\"PNS\",\n",
    "'nip':998,\n",
    "'matkul':[\"Data Analysis\",\"AI\",\"NLP\"]})"
   ]
  },
  {
   "cell_type": "code",
   "execution_count": 62,
   "metadata": {},
   "outputs": [
    {
     "name": "stdout",
     "output_type": "stream",
     "text": [
      "{'_id': ObjectId('5f6326284f56429c722c0fa9'), 'nama': 'Caca', 'usia': 28, 'asal': 'Jakarta', 'bidang': 'Fisika Astrologi', 'titel': 'S2', 'status': 'Honorer', 'nip': 123, 'matkul': ['Metrologi', 'Kosmologi', 'Kalkulus']}\n",
      "{'_id': ObjectId('5f6326284f56429c722c0faa'), 'nama': 'Dedi', 'usia': 29, 'asal': 'Yogyakarta', 'bidang': 'Fisika Terapan', 'titel': 'S3', 'status': 'PNS', 'nip': 456, 'matkul': ['Instrumentasi', 'Elektronika', 'Fisika Dasar']}\n",
      "{'_id': ObjectId('5f6326284f56429c722c0fab'), 'nama': 'Euis', 'usia': 30, 'asal': 'Bandung', 'bidang': 'Fisika Teoretik', 'titel': 'S1', 'status': 'Honorer', 'nip': 789, 'matkul': ['Fisika Dasar', 'Fisika Modern', 'Kalkulus']}\n",
      "{'_id': ObjectId('5f6327af4f56429c722c0fb0'), 'nama': 'Dodi', 'usia': 27, 'asal': 'Surabaya', 'bidang': 'Computer Science', 'titel': 'S2', 'status': 'PNS', 'nip': 998, 'matkul': ['Data Analysis', 'AI', 'NLP']}\n"
     ]
    }
   ],
   "source": [
    "for i in myCol.find():\n",
    "    print(i)"
   ]
  },
  {
   "cell_type": "code",
   "execution_count": 73,
   "metadata": {},
   "outputs": [
    {
     "name": "stdout",
     "output_type": "stream",
     "text": [
      "['HRD', 'Kampus', 'Penjualan', 'admin', 'config', 'local', 'restoran', 'user']\n"
     ]
    }
   ],
   "source": [
    "print(dbs)"
   ]
  },
  {
   "cell_type": "code",
   "execution_count": 75,
   "metadata": {},
   "outputs": [
    {
     "name": "stdout",
     "output_type": "stream",
     "text": [
      "data updated\n",
      "{'_id': ObjectId('5f6326f74f56429c722c0fad'), 'nama': 'Gilang', 'usia': 20, 'asal': 'Semarang', 'prodi': 'Fisika', 'angkatan': 2017, 'nim': 456}\n",
      "{'_id': ObjectId('5f6326f74f56429c722c0fae'), 'nama': 'Ahmad Hanafi', 'usia': 22, 'asal': 'Makassar', 'prodi': 'Fisika', 'angkatan': 2017, 'nim': 789}\n",
      "{'_id': ObjectId('5f6326f74f56429c722c0faf'), 'nama': 'Dini', 'usia': 20, 'asal': 'Bekasi', 'prodi': 'Fisika', 'angkatan': 2017, 'nim': '004'}\n"
     ]
    }
   ],
   "source": [
    "### Ubah Nama Hanafi menjadi Ahmad Hanafi dan Usia nya menjadi 22 (Mahasiswa)\n",
    "Data={\"nama\":\"Hanafi\"}\n",
    "new_val={\"$set\":{\"nama\":\"Ahmad Hanafi\",\"usia\":22}}\n",
    "myCol2.update_one(Data,new_val)\n",
    "print(\"data updated\")\n",
    "\n",
    "for i in myCol2.find():\n",
    "    print(i)"
   ]
  },
  {
   "cell_type": "code",
   "execution_count": 76,
   "metadata": {},
   "outputs": [
    {
     "name": "stdout",
     "output_type": "stream",
     "text": [
      "data updated\n",
      "{'_id': ObjectId('5f6326f74f56429c722c0fad'), 'nama': 'Gilang', 'usia': 20, 'asal': 'Semarang', 'prodi': 'Matematika', 'angkatan': 2017, 'nim': 456}\n",
      "{'_id': ObjectId('5f6326f74f56429c722c0fae'), 'nama': 'Ahmad Hanafi', 'usia': 22, 'asal': 'Makassar', 'prodi': 'Fisika', 'angkatan': 2017, 'nim': 789}\n",
      "{'_id': ObjectId('5f6326f74f56429c722c0faf'), 'nama': 'Dini', 'usia': 20, 'asal': 'Bekasi', 'prodi': 'Matematika', 'angkatan': 2017, 'nim': '004'}\n"
     ]
    }
   ],
   "source": [
    "###Ubah semua Prodi Mahasiswa yang berusia 20 menjadi Matematika (Mahasiswa)\n",
    "Data={\"usia\":20}\n",
    "new_vals={'$set':{\"prodi\":\"Matematika\"}}\n",
    "myCol2.update_many(Data,new_vals)\n",
    "print(\"data updated\")\n",
    "\n",
    "for i in myCol2.find():\n",
    "    print(i)"
   ]
  },
  {
   "cell_type": "code",
   "execution_count": 77,
   "metadata": {},
   "outputs": [
    {
     "name": "stdout",
     "output_type": "stream",
     "text": [
      "data updated\n",
      "{'_id': ObjectId('5f6326f74f56429c722c0fad'), 'nama': 'Gilang', 'usia': 20, 'prodi': 'Matematika', 'angkatan': 2017, 'nim': 456, 'Kota_asal': 'Semarang'}\n",
      "{'_id': ObjectId('5f6326f74f56429c722c0fae'), 'nama': 'Ahmad Hanafi', 'usia': 22, 'prodi': 'Fisika', 'angkatan': 2017, 'nim': 789, 'Kota_asal': 'Makassar'}\n",
      "{'_id': ObjectId('5f6326f74f56429c722c0faf'), 'nama': 'Dini', 'usia': 20, 'prodi': 'Matematika', 'angkatan': 2017, 'nim': '004', 'Kota_asal': 'Bekasi'}\n"
     ]
    }
   ],
   "source": [
    "#Ubah field asal menjadi Kota_asal (Mahasiswa)\n",
    "Data={}\n",
    "new_val1={'$rename':{\"asal\":\"Kota_asal\"}}\n",
    "\n",
    "myCol2.update_many(Data,new_val1)\n",
    "print(\"data updated\")\n",
    "\n",
    "for i in myCol2.find():\n",
    "    print(i)"
   ]
  },
  {
   "cell_type": "code",
   "execution_count": 97,
   "metadata": {},
   "outputs": [
    {
     "name": "stdout",
     "output_type": "stream",
     "text": [
      "<pymongo.cursor.Cursor object at 0x10cbdc940>\n"
     ]
    }
   ],
   "source": [
    "print(myCol2.find())"
   ]
  },
  {
   "cell_type": "markdown",
   "metadata": {},
   "source": [
    "# BUAT MENU CRUD\n",
    "### still failed"
   ]
  },
  {
   "cell_type": "code",
   "execution_count": 126,
   "metadata": {},
   "outputs": [
    {
     "name": "stdout",
     "output_type": "stream",
     "text": [
      "data submitted, with id  5f6369ae4f56429c722c0fb5\n"
     ]
    }
   ],
   "source": [
    "def main():\n",
    "\n",
    "    while(1):\n",
    "    # chossing option to do CRUD operations\n",
    "        selection = raw_input('\\nSelect 1 to insert, 2 to update, 3 to read, 4 to delete\\n')\n",
    "    \n",
    "        if selection == '1':\n",
    "            insert()\n",
    "        elif selection == '2':\n",
    "            update()\n",
    "        elif selection == '3':\n",
    "            read()\n",
    "        elif selection == '4':\n",
    "            delete()\n",
    "        else:\n",
    "            print ('\\n INVALID SELECTION \\n')\n",
    "            \n",
    "def insert():\n",
    "    try:\n",
    "        nama = input('masukkan nama mahasiswa :')\n",
    "        usia = input('masukkan usia mahasiswa :')\n",
    "        prodi = input('masukkan nama prodi :')\n",
    "        angkatan = input('masukkan angkatan mahasiswa :')\n",
    "        nim = input('masukkan nim mahasiswa :')\n",
    "        Kota_asal = input('masukkan kota asal mahasiswa :')\n",
    "    \n",
    "    except ValueError:\n",
    "        print (\"wrong input\")\n",
    "new_datas = {\n",
    "    \"nama\":nama,\n",
    "    \"usia\":usia,\n",
    "    \"prodi\":prodi,\n",
    "    \"angkatan\":angkatan,\n",
    "    \"nim\":nim,\n",
    "    \"Kota_asal\":Kota_asal\n",
    "}\n",
    "x=myCol2.insert_one(new_datas)\n",
    "print(\"data submitted, with id \", x.inserted_id)\n",
    "\n",
    "def insert():\n",
    "    try:\n",
    "        nama = input('masukkan nama mahasiswa :')\n",
    "        usia = input('masukkan usia mahasiswa :')\n",
    "        prodi = input('masukkan nama prodi :')\n",
    "        angkatan = input('masukkan angkatan mahasiswa :')\n",
    "        nim = input('masukkan nim mahasiswa :')\n",
    "        Kota_asal = input('masukkan kota asal mahasiswa :')\n",
    "        \n",
    "        dbs.myCol2.insert_one(\n",
    "            {\n",
    "                \"nama\": nama,\n",
    "                \"usia\":usia,\n",
    "                \"prodi\":prodi,\n",
    "                \"angkatan\":angkatan,\n",
    "                \"nim\":nim,\n",
    "                \"Kota_asal\":Kota_asal              \n",
    "        })\n",
    "        print ('\\nInserted data successfully\\n')\n",
    "    \n",
    "    except ValueError:\n",
    "        print (\"wrong input\")\n",
    "\n",
    "def read():\n",
    "    try:\n",
    "        studCol = dbs.myCol2.find()\n",
    "        print ('\\n All data from EmployeeData Database \\n')\n",
    "        for emp in studCol:\n",
    "            print (emp)\n",
    "\n",
    "    except ValueError:\n",
    "        print (\"wrong input\")\n",
    "\n",
    "def update():\n",
    "    try:\n",
    "        nama_mhs = input('\\nmasukkan nama untuk update\\n')\n",
    "        usia = input('\\nmasukkan usia untuk update\\n')\n",
    "        prodi = input('\\nmasukkan usia untuk update\\n')\n",
    "        angkatan = input('\\nmasukkan angkatan untuk update\\n')\n",
    "        nim = input('\\nmasukkan NIM untuk update\\n')\n",
    "        Kota_asal = input('\\nmasukkan kota asal untuk update\\n')\n",
    "        \n",
    "        dbs.myCol2.update_one(\n",
    "            {\"nama\": nama_mhs},\n",
    "            {\n",
    "                \"$set\": {\n",
    "                    \"usia\":usia,\n",
    "                    \"prodi\":prodi,\n",
    "                    \"angkatan\":angkatan,\n",
    "                    \"nim\":nim,\n",
    "                    \"Kota_asal\":Kota_asal\n",
    "                }\n",
    "            }\n",
    "        )\n",
    "        print (\"\\nRecords updated successfully\\n\"   ) \n",
    " \n",
    "    except ValueError:\n",
    "        print (\"wrong input\")\n",
    "        \n",
    "def delete():\n",
    "    try:\n",
    "        nama_mhs = input('\\nmasukan nama untuk delete\\n')\n",
    "        dbs.myCol2.delete_many({\"nama\":nama_mhs})\n",
    "        print ('\\nDeletion successful\\n' )\n",
    "    except ValueError:\n",
    "        print (\"wrong input\")"
   ]
  },
  {
   "cell_type": "code",
   "execution_count": 127,
   "metadata": {},
   "outputs": [
    {
     "name": "stdout",
     "output_type": "stream",
     "text": [
      "{'_id': ObjectId('5f6326f74f56429c722c0fad'), 'nama': 'Gilang', 'usia': 20, 'prodi': 'Matematika', 'angkatan': 2017, 'nim': 456, 'Kota_asal': 'Semarang'}\n",
      "{'_id': ObjectId('5f6326f74f56429c722c0fae'), 'nama': 'Ahmad Hanafi', 'usia': 22, 'prodi': 'Fisika', 'angkatan': 2017, 'nim': 789, 'Kota_asal': 'Makassar'}\n",
      "{'_id': ObjectId('5f6326f74f56429c722c0faf'), 'nama': 'Dini', 'usia': 20, 'prodi': 'Matematika', 'angkatan': 2017, 'nim': '004', 'Kota_asal': 'Bekasi'}\n",
      "{'_id': ObjectId('5f63697f4f56429c722c0fb4'), 'nama': 'd', 'usia': 'd', 'prodi': 'd', 'angkatan': 'd', 'nim': 'd', 'Kota_asal': 'd'}\n",
      "{'_id': ObjectId('5f6369ae4f56429c722c0fb5'), 'nama': 'd', 'usia': 'd', 'prodi': 'd', 'angkatan': 'd', 'nim': 'd', 'Kota_asal': 'd'}\n"
     ]
    }
   ],
   "source": [
    "for i in myCol2.find():\n",
    "    print(i)"
   ]
  },
  {
   "cell_type": "code",
   "execution_count": null,
   "metadata": {},
   "outputs": [],
   "source": []
  }
 ],
 "metadata": {
  "kernelspec": {
   "display_name": "Python 3",
   "language": "python",
   "name": "python3"
  },
  "language_info": {
   "codemirror_mode": {
    "name": "ipython",
    "version": 3
   },
   "file_extension": ".py",
   "mimetype": "text/x-python",
   "name": "python",
   "nbconvert_exporter": "python",
   "pygments_lexer": "ipython3",
   "version": "3.6.8"
  }
 },
 "nbformat": 4,
 "nbformat_minor": 2
}
